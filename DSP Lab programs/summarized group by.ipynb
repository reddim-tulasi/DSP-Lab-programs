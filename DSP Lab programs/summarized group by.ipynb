{
 "cells": [
  {
   "cell_type": "code",
   "execution_count": 2,
   "metadata": {},
   "outputs": [
    {
     "data": {
      "text/html": [
       "<div>\n",
       "<style scoped>\n",
       "    .dataframe tbody tr th:only-of-type {\n",
       "        vertical-align: middle;\n",
       "    }\n",
       "\n",
       "    .dataframe tbody tr th {\n",
       "        vertical-align: top;\n",
       "    }\n",
       "\n",
       "    .dataframe thead th {\n",
       "        text-align: right;\n",
       "    }\n",
       "</style>\n",
       "<table border=\"1\" class=\"dataframe\">\n",
       "  <thead>\n",
       "    <tr style=\"text-align: right;\">\n",
       "      <th></th>\n",
       "      <th>S.NO</th>\n",
       "      <th>CLASS</th>\n",
       "      <th>ID NO</th>\n",
       "      <th>SUBJECT</th>\n",
       "      <th>MARKS</th>\n",
       "    </tr>\n",
       "  </thead>\n",
       "  <tbody>\n",
       "    <tr>\n",
       "      <td>0</td>\n",
       "      <td>1</td>\n",
       "      <td>2E</td>\n",
       "      <td>S180233</td>\n",
       "      <td>DSP</td>\n",
       "      <td>40</td>\n",
       "    </tr>\n",
       "    <tr>\n",
       "      <td>1</td>\n",
       "      <td>2</td>\n",
       "      <td>2C</td>\n",
       "      <td>S180462</td>\n",
       "      <td>WT</td>\n",
       "      <td>35</td>\n",
       "    </tr>\n",
       "    <tr>\n",
       "      <td>2</td>\n",
       "      <td>3</td>\n",
       "      <td>2B</td>\n",
       "      <td>S1801010</td>\n",
       "      <td>IOR</td>\n",
       "      <td>38</td>\n",
       "    </tr>\n",
       "    <tr>\n",
       "      <td>3</td>\n",
       "      <td>4</td>\n",
       "      <td>2A</td>\n",
       "      <td>S1801018</td>\n",
       "      <td>WT</td>\n",
       "      <td>35</td>\n",
       "    </tr>\n",
       "    <tr>\n",
       "      <td>4</td>\n",
       "      <td>5</td>\n",
       "      <td>2D</td>\n",
       "      <td>S180432</td>\n",
       "      <td>WT</td>\n",
       "      <td>32</td>\n",
       "    </tr>\n",
       "    <tr>\n",
       "      <td>5</td>\n",
       "      <td>6</td>\n",
       "      <td>2E</td>\n",
       "      <td>S180056</td>\n",
       "      <td>IOR</td>\n",
       "      <td>34</td>\n",
       "    </tr>\n",
       "    <tr>\n",
       "      <td>6</td>\n",
       "      <td>7</td>\n",
       "      <td>2B</td>\n",
       "      <td>S180255</td>\n",
       "      <td>DSP</td>\n",
       "      <td>20</td>\n",
       "    </tr>\n",
       "    <tr>\n",
       "      <td>7</td>\n",
       "      <td>8</td>\n",
       "      <td>2C</td>\n",
       "      <td>S180465</td>\n",
       "      <td>WT</td>\n",
       "      <td>39</td>\n",
       "    </tr>\n",
       "    <tr>\n",
       "      <td>8</td>\n",
       "      <td>9</td>\n",
       "      <td>2C</td>\n",
       "      <td>S180455</td>\n",
       "      <td>CD</td>\n",
       "      <td>40</td>\n",
       "    </tr>\n",
       "    <tr>\n",
       "      <td>9</td>\n",
       "      <td>10</td>\n",
       "      <td>2E</td>\n",
       "      <td>S180222</td>\n",
       "      <td>COA</td>\n",
       "      <td>23</td>\n",
       "    </tr>\n",
       "    <tr>\n",
       "      <td>10</td>\n",
       "      <td>11</td>\n",
       "      <td>2A</td>\n",
       "      <td>S180234</td>\n",
       "      <td>CD</td>\n",
       "      <td>38</td>\n",
       "    </tr>\n",
       "  </tbody>\n",
       "</table>\n",
       "</div>"
      ],
      "text/plain": [
       "    S.NO CLASS     ID NO SUBJECT  MARKS\n",
       "0      1    2E   S180233     DSP     40\n",
       "1      2    2C   S180462      WT     35\n",
       "2      3    2B  S1801010     IOR     38\n",
       "3      4    2A  S1801018      WT     35\n",
       "4      5    2D   S180432      WT     32\n",
       "5      6    2E   S180056     IOR     34\n",
       "6      7    2B   S180255     DSP     20\n",
       "7      8    2C   S180465      WT     39\n",
       "8      9    2C   S180455      CD     40\n",
       "9     10    2E   S180222     COA     23\n",
       "10    11    2A   S180234      CD     38"
      ]
     },
     "execution_count": 2,
     "metadata": {},
     "output_type": "execute_result"
    }
   ],
   "source": [
    "import pandas as pd\n",
    "df=pd.read_csv(\"DSP MARKS.csv\")\n",
    "df"
   ]
  },
  {
   "cell_type": "code",
   "execution_count": 3,
   "metadata": {},
   "outputs": [
    {
     "name": "stdout",
     "output_type": "stream",
     "text": [
      "<pandas.core.groupby.generic.DataFrameGroupBy object at 0x00000243FA8AD748>\n"
     ]
    }
   ],
   "source": [
    "print(df.groupby([\"SUBJECT\"]))"
   ]
  },
  {
   "cell_type": "code",
   "execution_count": 6,
   "metadata": {},
   "outputs": [],
   "source": [
    "a=df.groupby([\"SUBJECT\",\"ID NO\"])"
   ]
  },
  {
   "cell_type": "code",
   "execution_count": 7,
   "metadata": {},
   "outputs": [
    {
     "name": "stdout",
     "output_type": "stream",
     "text": [
      "{('CD', 'S180234'): Int64Index([10], dtype='int64'), ('CD', 'S180455'): Int64Index([8], dtype='int64'), ('COA', 'S180222'): Int64Index([9], dtype='int64'), ('DSP', 'S180233'): Int64Index([0], dtype='int64'), ('DSP', 'S180255'): Int64Index([6], dtype='int64'), ('IOR', 'S180056'): Int64Index([5], dtype='int64'), ('IOR', 'S1801010'): Int64Index([2], dtype='int64'), ('WT', 'S1801018'): Int64Index([3], dtype='int64'), ('WT', 'S180432'): Int64Index([4], dtype='int64'), ('WT', 'S180462'): Int64Index([1], dtype='int64'), ('WT', 'S180465'): Int64Index([7], dtype='int64')}\n"
     ]
    }
   ],
   "source": [
    "print(a.groups)"
   ]
  },
  {
   "cell_type": "code",
   "execution_count": 10,
   "metadata": {},
   "outputs": [
    {
     "name": "stdout",
     "output_type": "stream",
     "text": [
      "         S.NO CLASS     ID NO  MARKS\n",
      "SUBJECT                             \n",
      "CD         11    2C   S180455     40\n",
      "COA        10    2E   S180222     23\n",
      "DSP         7    2E   S180255     40\n",
      "IOR         6    2E  S1801010     38\n",
      "WT          8    2D   S180465     39\n"
     ]
    }
   ],
   "source": [
    "print(df.groupby([\"SUBJECT\"]).max())"
   ]
  },
  {
   "cell_type": "code",
   "execution_count": 11,
   "metadata": {},
   "outputs": [
    {
     "name": "stdout",
     "output_type": "stream",
     "text": [
      "         S.NO CLASS     ID NO  MARKS\n",
      "SUBJECT                             \n",
      "CD          9    2A   S180234     38\n",
      "COA        10    2E   S180222     23\n",
      "DSP         1    2B   S180233     20\n",
      "IOR         3    2B   S180056     34\n",
      "WT          2    2A  S1801018     32\n"
     ]
    }
   ],
   "source": [
    "print(df.groupby([\"SUBJECT\"]).min())"
   ]
  },
  {
   "cell_type": "code",
   "execution_count": 12,
   "metadata": {},
   "outputs": [
    {
     "name": "stdout",
     "output_type": "stream",
     "text": [
      "{'CD': Int64Index([8, 10], dtype='int64'), 'COA': Int64Index([9], dtype='int64'), 'DSP': Int64Index([0, 6], dtype='int64'), 'IOR': Int64Index([2, 5], dtype='int64'), 'WT': Int64Index([1, 3, 4, 7], dtype='int64')}\n"
     ]
    }
   ],
   "source": [
    "print(df.groupby([\"SUBJECT\"]).groups)"
   ]
  },
  {
   "cell_type": "code",
   "execution_count": 14,
   "metadata": {},
   "outputs": [
    {
     "name": "stdout",
     "output_type": "stream",
     "text": [
      "       S.NO    ID NO SUBJECT  MARKS\n",
      "CLASS                              \n",
      "2A       11  S180234      WT     38\n",
      "2B        7  S180255     IOR     38\n",
      "2C        9  S180465      WT     40\n",
      "2D        5  S180432      WT     32\n",
      "2E       10  S180233     IOR     40\n"
     ]
    }
   ],
   "source": [
    "print(df.groupby([\"CLASS\"]).max())"
   ]
  },
  {
   "cell_type": "code",
   "execution_count": 16,
   "metadata": {},
   "outputs": [
    {
     "name": "stdout",
     "output_type": "stream",
     "text": [
      "{'2A': Int64Index([3, 10], dtype='int64'), '2B': Int64Index([2, 6], dtype='int64'), '2C': Int64Index([1, 7, 8], dtype='int64'), '2D': Int64Index([4], dtype='int64'), '2E': Int64Index([0, 5, 9], dtype='int64')}\n"
     ]
    }
   ],
   "source": [
    "print(df.groupby([\"CLASS\"]).groups)"
   ]
  },
  {
   "cell_type": "code",
   "execution_count": 23,
   "metadata": {},
   "outputs": [
    {
     "name": "stdout",
     "output_type": "stream",
     "text": [
      "   S.NO CLASS    ID NO SUBJECT  MARKS\n",
      "1     2    2C  S180462      WT     35\n",
      "7     8    2C  S180465      WT     39\n",
      "8     9    2C  S180455      CD     40\n"
     ]
    }
   ],
   "source": [
    "g=df.groupby([\"CLASS\"])\n",
    "print(g.get_group(\"2C\"))"
   ]
  },
  {
   "cell_type": "code",
   "execution_count": 24,
   "metadata": {},
   "outputs": [
    {
     "data": {
      "text/plain": [
       "2E    3\n",
       "2C    3\n",
       "2A    2\n",
       "2B    2\n",
       "2D    1\n",
       "Name: CLASS, dtype: int64"
      ]
     },
     "execution_count": 24,
     "metadata": {},
     "output_type": "execute_result"
    }
   ],
   "source": [
    "df[\"CLASS\"].value_counts()"
   ]
  },
  {
   "cell_type": "code",
   "execution_count": null,
   "metadata": {},
   "outputs": [],
   "source": []
  }
 ],
 "metadata": {
  "kernelspec": {
   "display_name": "Python 3",
   "language": "python",
   "name": "python3"
  },
  "language_info": {
   "codemirror_mode": {
    "name": "ipython",
    "version": 3
   },
   "file_extension": ".py",
   "mimetype": "text/x-python",
   "name": "python",
   "nbconvert_exporter": "python",
   "pygments_lexer": "ipython3",
   "version": "3.7.4"
  }
 },
 "nbformat": 4,
 "nbformat_minor": 2
}
