{
 "cells": [
  {
   "cell_type": "code",
   "execution_count": 7,
   "metadata": {},
   "outputs": [
    {
     "name": "stdout",
     "output_type": "stream",
     "text": [
      "[ 5 15 25 35 45 55]\n",
      "[[ 5]\n",
      " [15]\n",
      " [25]\n",
      " [35]\n",
      " [45]\n",
      " [55]]\n",
      "[ 5 20 14 32 22 38]\n",
      "5.633333333333329\n",
      "[0.54]\n",
      "0.7158756137479542\n",
      "[ 8.33333333 13.73333333 19.13333333 24.53333333 29.93333333 35.33333333]\n",
      "1.0\n",
      "[[ 8.33333333]\n",
      " [13.73333333]\n",
      " [19.13333333]\n",
      " [24.53333333]\n",
      " [29.93333333]\n",
      " [35.33333333]]\n"
     ]
    },
    {
     "data": {
      "image/png": "[encoded data removed]",
      "text/plain": [
       "<Figure size 432x288 with 1 Axes>"
      ]
     },
     "metadata": {
      "needs_background": "light"
     },
     "output_type": "display_data"
    }
   ],
   "source": [
    "#Linear Regression\n",
    "import pandas as pd\n",
    "import numpy as np\n",
    "import matplotlib.pyplot as plt\n",
    "from sklearn.linear_model import LinearRegression \n",
    "x=np.array([5,15,25,35,45,55])\n",
    "print(x)\n",
    "x=np.array([5,15,25,35,45,55]).reshape((-2,1))\n",
    "print(x)\n",
    "y=np.array([5,20,14,32,22,38])\n",
    "print(y)\n",
    "plt.scatter(x,y)\n",
    "model=LinearRegression().fit(x,y)\n",
    "print(model.intercept_)\n",
    "print(model.coef_)\n",
    "print(model.score(x,y))\n",
    "y_pred=model.predict(x)\n",
    "print(y_pred)\n",
    "print(model.score(x,y_pred))\n",
    "plt.scatter(x,y)\n",
    "print(model.intercept_+model.coef_*x)\n",
    "plt.scatter(x,y)\n",
    "plt.plot(x,y_pred)\n",
    "plt.show()"
   ]
  },
  {
   "cell_type": "code",
   "execution_count": null,
   "metadata": {},
   "outputs": [],
   "source": [
    "x_new=np.arange(6)\n",
    "x_new=x_new[ :,np.newaxis]\n",
    "x_new\n",
    "y=np.array([10,40,20,70,33,7])\n",
    "model=LinearRegression().fit(x_new,y)\n",
    "y_new=model.predict(x_new)\n",
    "y_new\n",
    "plt.scatter(x_new,y)\n",
    "plt.plot(x_new,y_new)\n",
    "plt.show()"
   ]
  },
  {
   "cell_type": "code",
   "execution_count": 27,
   "metadata": {},
   "outputs": [
    {
     "name": "stdout",
     "output_type": "stream",
     "text": [
      "coefficient of determination:0.2658305981421225\n"
     ]
    },
    {
     "ename": "TypeError",
     "evalue": "unsupported format string passed to LinearRegression.__format__",
     "output_type": "error",
     "traceback": [
      "\u001b[1;31m---------------------------------------------------------------------------\u001b[0m",
      "\u001b[1;31mTypeError\u001b[0m                                 Traceback (most recent call last)",
      "\u001b[1;32m<ipython-input-27-08bbc9d85d6c>\u001b[0m in \u001b[0;36m<module>\u001b[1;34m\u001b[0m\n\u001b[0;32m      8\u001b[0m \u001b[0mr_sq\u001b[0m\u001b[1;33m=\u001b[0m\u001b[0mmodel\u001b[0m\u001b[1;33m.\u001b[0m\u001b[0mscore\u001b[0m\u001b[1;33m(\u001b[0m\u001b[0mx\u001b[0m\u001b[1;33m,\u001b[0m\u001b[0my\u001b[0m\u001b[1;33m)\u001b[0m\u001b[1;33m\u001b[0m\u001b[1;33m\u001b[0m\u001b[0m\n\u001b[0;32m      9\u001b[0m \u001b[0mprint\u001b[0m\u001b[1;33m(\u001b[0m\u001b[1;34mf\"coefficient of determination:{r_sq}\"\u001b[0m\u001b[1;33m)\u001b[0m\u001b[1;33m\u001b[0m\u001b[1;33m\u001b[0m\u001b[0m\n\u001b[1;32m---> 10\u001b[1;33m \u001b[0mprint\u001b[0m\u001b[1;33m(\u001b[0m\u001b[1;34mf\"intercept_:{model:intercept_}\"\u001b[0m\u001b[1;33m)\u001b[0m\u001b[1;33m\u001b[0m\u001b[1;33m\u001b[0m\u001b[0m\n\u001b[0m\u001b[0;32m     11\u001b[0m \u001b[0mprint\u001b[0m\u001b[1;33m(\u001b[0m\u001b[1;34mf\"slope:{model.coef_}\"\u001b[0m\u001b[1;33m)\u001b[0m\u001b[1;33m\u001b[0m\u001b[1;33m\u001b[0m\u001b[0m\n\u001b[0;32m     12\u001b[0m \u001b[0my_pred\u001b[0m\u001b[1;33m=\u001b[0m\u001b[0mmodel\u001b[0m\u001b[1;33m.\u001b[0m\u001b[0mpredict\u001b[0m\u001b[1;33m(\u001b[0m\u001b[0mx\u001b[0m\u001b[1;33m)\u001b[0m\u001b[1;33m\u001b[0m\u001b[1;33m\u001b[0m\u001b[0m\n",
      "\u001b[1;31mTypeError\u001b[0m: unsupported format string passed to LinearRegression.__format__"
     ]
    }
   ],
   "source": [
    "#multiple Regression\n",
    "import numpy as np\n",
    "from sklearn.linear_model import LinearRegression\n",
    "x=[[0,1],[5,1],[15,2],[25,5],[35,4],[45,15],[55,34],[60,35]]\n",
    "y=[45,20,14,32,22,38,43,32]\n",
    "x,y=np.array(x),np.array(y)\n",
    "model=LinearRegression().fit(x,y)\n",
    "r_sq=model.score(x,y)\n",
    "print(f\"coefficient of determination:{r_sq}\")\n",
    "print(f\"intercept_:{model:intercept_}\")\n",
    "print(f\"slope:{model.coef_}\")\n",
    "y_pred=model.predict(x)\n",
    "print(f\"predicted response:{y_pred}\")\n",
    "y_pred=model.intercept+np.sum(model.coef_*x59,axis=1)\n",
    "print(f\"predicted response:/n{y_pred}\")\n",
    "x_new=np.arange(10).reshape([1,2])\n",
    "y_new=model.predict(x_new)\n",
    "x_new\n",
    "y_new\n",
    "\n",
    "\n",
    "\n"
   ]
  },
  {
   "cell_type": "markdown",
   "metadata": {},
   "source": [
    "### polynomial regression"
   ]
  },
  {
   "cell_type": "code",
   "execution_count": 8,
   "metadata": {},
   "outputs": [
    {
     "name": "stdout",
     "output_type": "stream",
     "text": [
      "coefficient of determination:0.8908516262498564\n",
      "intercept:[-1.32357143  0.02839286]\n",
      "predicted response:[15.46428571  7.90714286  6.02857143  9.82857143 19.30714286 34.46428571]\n"
     ]
    }
   ],
   "source": [
    "# polynomial regression\n",
    "import numpy as np\n",
    "from sklearn.linear_model import LinearRegression\n",
    "from sklearn.preprocessing import PolynomialFeatures\n",
    "x=np.array([5,15,25,35,45,55]).reshape((-1,1))\n",
    "y=np.array([15,11,2,8,25,32])\n",
    "transformer=PolynomialFeatures(degree=2,include_bias=False)\n",
    "transformer.fit(x,y)\n",
    "x=transformer.transform(x)\n",
    "model=LinearRegression().fit(x,y)\n",
    "x\n",
    "r_sq=model.score(x,y)\n",
    "print(f\"coefficient of determination:{r_sq}\")\n",
    "print(f\"intercept:{model.coef_}\")\n",
    "y_pred=model.predict(x)\n",
    "print(f\"predicted response:{y_pred}\")\n"
   ]
  },
  {
   "cell_type": "code",
   "execution_count": null,
   "metadata": {},
   "outputs": [],
   "source": [
    "#LogisticREgression\n",
    "import pandas as pd\n",
    "import matplotlib.pyplot as plt\n",
    "a=pd.read_csv(\"insurance_data.csv\")\n",
    "a.head(5)\n",
    "plt.scatter(a.age,a.bought_insurance,marker='s',color='pink')\n",
    "from sklearn.model_selection import train_test_split"
   ]
  },
  {
   "cell_type": "code",
   "execution_count": 8,
   "metadata": {},
   "outputs": [
    {
     "data": {
      "image/png": "[encoded data removed]",
      "text/plain": [
       "<Figure size 432x288 with 1 Axes>"
      ]
     },
     "metadata": {
      "needs_background": "light"
     },
     "output_type": "display_data"
    }
   ],
   "source": [
    "#SEA born\n",
    "import matplotlib.pyplot as plt\n",
    "import seaborn as sns\n",
    "sns.distplot([0,1,2,3,4,5])\n",
    "plt.show()"
   ]
  },
  {
   "cell_type": "code",
   "execution_count": 19,
   "metadata": {},
   "outputs": [
    {
     "data": {
      "image/png": "[encoded data removed]",
      "text/plain": [
       "<Figure size 432x288 with 1 Axes>"
      ]
     },
     "metadata": {
      "needs_background": "light"
     },
     "output_type": "display_data"
    }
   ],
   "source": [
    "import matplotlib.pyplot as plt\n",
    "import seaborn as sns\n",
    "sns.distplot(([0,1,2,3,4,5]),hist=False)\n",
    "plt.show()"
   ]
  },
  {
   "cell_type": "code",
   "execution_count": 30,
   "metadata": {},
   "outputs": [
    {
     "data": {
      "text/html": [
       "<div>\n",
       "<style scoped>\n",
       "    .dataframe tbody tr th:only-of-type {\n",
       "        vertical-align: middle;\n",
       "    }\n",
       "\n",
       "    .dataframe tbody tr th {\n",
       "        vertical-align: top;\n",
       "    }\n",
       "\n",
       "    .dataframe thead th {\n",
       "        text-align: right;\n",
       "    }\n",
       "</style>\n",
       "<table border=\"1\" class=\"dataframe\">\n",
       "  <thead>\n",
       "    <tr style=\"text-align: right;\">\n",
       "      <th></th>\n",
       "      <th>Unnamed: 0</th>\n",
       "      <th>S.NO</th>\n",
       "      <th>CLASS</th>\n",
       "      <th>ID NO</th>\n",
       "      <th>SUBJECT</th>\n",
       "      <th>MARKS</th>\n",
       "    </tr>\n",
       "  </thead>\n",
       "  <tbody>\n",
       "    <tr>\n",
       "      <td>0</td>\n",
       "      <td>0</td>\n",
       "      <td>1</td>\n",
       "      <td>2E</td>\n",
       "      <td>S180233</td>\n",
       "      <td>DSP</td>\n",
       "      <td>40</td>\n",
       "    </tr>\n",
       "    <tr>\n",
       "      <td>1</td>\n",
       "      <td>1</td>\n",
       "      <td>2</td>\n",
       "      <td>2C</td>\n",
       "      <td>S180462</td>\n",
       "      <td>WT</td>\n",
       "      <td>35</td>\n",
       "    </tr>\n",
       "    <tr>\n",
       "      <td>2</td>\n",
       "      <td>2</td>\n",
       "      <td>3</td>\n",
       "      <td>2B</td>\n",
       "      <td>S1801010</td>\n",
       "      <td>IOR</td>\n",
       "      <td>38</td>\n",
       "    </tr>\n",
       "    <tr>\n",
       "      <td>3</td>\n",
       "      <td>3</td>\n",
       "      <td>4</td>\n",
       "      <td>2A</td>\n",
       "      <td>S1801018</td>\n",
       "      <td>WT</td>\n",
       "      <td>35</td>\n",
       "    </tr>\n",
       "    <tr>\n",
       "      <td>4</td>\n",
       "      <td>4</td>\n",
       "      <td>5</td>\n",
       "      <td>2D</td>\n",
       "      <td>S180432</td>\n",
       "      <td>WT</td>\n",
       "      <td>32</td>\n",
       "    </tr>\n",
       "    <tr>\n",
       "      <td>5</td>\n",
       "      <td>5</td>\n",
       "      <td>6</td>\n",
       "      <td>2E</td>\n",
       "      <td>S180056</td>\n",
       "      <td>IOR</td>\n",
       "      <td>34</td>\n",
       "    </tr>\n",
       "    <tr>\n",
       "      <td>6</td>\n",
       "      <td>6</td>\n",
       "      <td>7</td>\n",
       "      <td>2B</td>\n",
       "      <td>S180255</td>\n",
       "      <td>DSP</td>\n",
       "      <td>20</td>\n",
       "    </tr>\n",
       "    <tr>\n",
       "      <td>7</td>\n",
       "      <td>7</td>\n",
       "      <td>8</td>\n",
       "      <td>2C</td>\n",
       "      <td>S180465</td>\n",
       "      <td>WT</td>\n",
       "      <td>39</td>\n",
       "    </tr>\n",
       "    <tr>\n",
       "      <td>8</td>\n",
       "      <td>8</td>\n",
       "      <td>9</td>\n",
       "      <td>2C</td>\n",
       "      <td>S180455</td>\n",
       "      <td>CD</td>\n",
       "      <td>40</td>\n",
       "    </tr>\n",
       "    <tr>\n",
       "      <td>9</td>\n",
       "      <td>9</td>\n",
       "      <td>10</td>\n",
       "      <td>2E</td>\n",
       "      <td>S180222</td>\n",
       "      <td>COA</td>\n",
       "      <td>23</td>\n",
       "    </tr>\n",
       "    <tr>\n",
       "      <td>10</td>\n",
       "      <td>10</td>\n",
       "      <td>11</td>\n",
       "      <td>2A</td>\n",
       "      <td>S180234</td>\n",
       "      <td>CD</td>\n",
       "      <td>38</td>\n",
       "    </tr>\n",
       "  </tbody>\n",
       "</table>\n",
       "</div>"
      ],
      "text/plain": [
       "    Unnamed: 0  S.NO CLASS     ID NO SUBJECT  MARKS\n",
       "0            0     1    2E   S180233     DSP     40\n",
       "1            1     2    2C   S180462      WT     35\n",
       "2            2     3    2B  S1801010     IOR     38\n",
       "3            3     4    2A  S1801018      WT     35\n",
       "4            4     5    2D   S180432      WT     32\n",
       "5            5     6    2E   S180056     IOR     34\n",
       "6            6     7    2B   S180255     DSP     20\n",
       "7            7     8    2C   S180465      WT     39\n",
       "8            8     9    2C   S180455      CD     40\n",
       "9            9    10    2E   S180222     COA     23\n",
       "10          10    11    2A   S180234      CD     38"
      ]
     },
     "execution_count": 30,
     "metadata": {},
     "output_type": "execute_result"
    },
    {
     "data": {
      "image/png": "[encoded data removed]",
      "text/plain": [
       "<Figure size 432x288 with 1 Axes>"
      ]
     },
     "metadata": {
      "needs_background": "light"
     },
     "output_type": "display_data"
    }
   ],
   "source": [
    "import pandas as pd\n",
    "import seaborn as sns\n",
    "a=pd.read_excel(\"DSPP MARKS.xlsx\")\n",
    "sns.countplot(x='MARKS',data=a)"
   ]
  },
  {
   "cell_type": "code",
   "execution_count": null,
   "metadata": {},
   "outputs": [],
   "source": []
  }
 ],
 "metadata": {
  "kernelspec": {
   "display_name": "Python 3",
   "language": "python",
   "name": "python3"
  },
  "language_info": {
   "codemirror_mode": {
    "name": "ipython",
    "version": 3
   },
   "file_extension": ".py",
   "mimetype": "text/x-python",
   "name": "python",
   "nbconvert_exporter": "python",
   "pygments_lexer": "ipython3",
   "version": "3.7.4"
  }
 },
 "nbformat": 4,
 "nbformat_minor": 2
}
